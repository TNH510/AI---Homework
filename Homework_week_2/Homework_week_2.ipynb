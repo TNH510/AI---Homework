{
  "nbformat": 4,
  "nbformat_minor": 0,
  "metadata": {
    "colab": {
      "provenance": [],
      "mount_file_id": "1I_41D6LkMV224D4v0I7jziGx0FcBSxVV",
      "authorship_tag": "ABX9TyMyaAagcUO7o3dajv54S3r8",
      "include_colab_link": true
    },
    "kernelspec": {
      "name": "python3",
      "display_name": "Python 3"
    },
    "language_info": {
      "name": "python"
    }
  },
  "cells": [
    {
      "cell_type": "markdown",
      "metadata": {
        "id": "view-in-github",
        "colab_type": "text"
      },
      "source": [
        "<a href=\"https://colab.research.google.com/github/TNH510/Artificial-Intelligence/blob/main/Homework_week_2.ipynb\" target=\"_parent\"><img src=\"https://colab.research.google.com/assets/colab-badge.svg\" alt=\"Open In Colab\"/></a>"
      ]
    },
    {
      "cell_type": "code",
      "source": [
        "#Homework week2: Xử lí dữ liệu thu thập từ 1 trang web"
      ],
      "metadata": {
        "id": "VKn-FA42O6k5"
      },
      "execution_count": null,
      "outputs": []
    },
    {
      "cell_type": "code",
      "source": [
        "import pandas as pd\n",
        "url = 'http://winterolympicsmedals.com/medals.csv'\n",
        "dataframe = pd.read_csv(url)"
      ],
      "metadata": {
        "id": "X8kQ0ubgRhOV"
      },
      "execution_count": 65,
      "outputs": []
    },
    {
      "cell_type": "code",
      "source": [
        "dataframe.head(0)\n",
        "#Kiểm tra các trường thuộc tính có trong data"
      ],
      "metadata": {
        "colab": {
          "base_uri": "https://localhost:8080/",
          "height": 49
        },
        "id": "33r5iWkTap95",
        "outputId": "28efdfd5-8933-444c-cc6b-a8215dbe15a5"
      },
      "execution_count": 66,
      "outputs": [
        {
          "output_type": "execute_result",
          "data": {
            "text/plain": [
              "Empty DataFrame\n",
              "Columns: [Year, City, Sport, Discipline, NOC, Event, Event gender, Medal]\n",
              "Index: []"
            ],
            "text/html": [
              "\n",
              "  <div id=\"df-b5f3ed1e-8631-4fb3-9d5d-8b26bc1bff0a\">\n",
              "    <div class=\"colab-df-container\">\n",
              "      <div>\n",
              "<style scoped>\n",
              "    .dataframe tbody tr th:only-of-type {\n",
              "        vertical-align: middle;\n",
              "    }\n",
              "\n",
              "    .dataframe tbody tr th {\n",
              "        vertical-align: top;\n",
              "    }\n",
              "\n",
              "    .dataframe thead th {\n",
              "        text-align: right;\n",
              "    }\n",
              "</style>\n",
              "<table border=\"1\" class=\"dataframe\">\n",
              "  <thead>\n",
              "    <tr style=\"text-align: right;\">\n",
              "      <th></th>\n",
              "      <th>Year</th>\n",
              "      <th>City</th>\n",
              "      <th>Sport</th>\n",
              "      <th>Discipline</th>\n",
              "      <th>NOC</th>\n",
              "      <th>Event</th>\n",
              "      <th>Event gender</th>\n",
              "      <th>Medal</th>\n",
              "    </tr>\n",
              "  </thead>\n",
              "  <tbody>\n",
              "  </tbody>\n",
              "</table>\n",
              "</div>\n",
              "      <button class=\"colab-df-convert\" onclick=\"convertToInteractive('df-b5f3ed1e-8631-4fb3-9d5d-8b26bc1bff0a')\"\n",
              "              title=\"Convert this dataframe to an interactive table.\"\n",
              "              style=\"display:none;\">\n",
              "        \n",
              "  <svg xmlns=\"http://www.w3.org/2000/svg\" height=\"24px\"viewBox=\"0 0 24 24\"\n",
              "       width=\"24px\">\n",
              "    <path d=\"M0 0h24v24H0V0z\" fill=\"none\"/>\n",
              "    <path d=\"M18.56 5.44l.94 2.06.94-2.06 2.06-.94-2.06-.94-.94-2.06-.94 2.06-2.06.94zm-11 1L8.5 8.5l.94-2.06 2.06-.94-2.06-.94L8.5 2.5l-.94 2.06-2.06.94zm10 10l.94 2.06.94-2.06 2.06-.94-2.06-.94-.94-2.06-.94 2.06-2.06.94z\"/><path d=\"M17.41 7.96l-1.37-1.37c-.4-.4-.92-.59-1.43-.59-.52 0-1.04.2-1.43.59L10.3 9.45l-7.72 7.72c-.78.78-.78 2.05 0 2.83L4 21.41c.39.39.9.59 1.41.59.51 0 1.02-.2 1.41-.59l7.78-7.78 2.81-2.81c.8-.78.8-2.07 0-2.86zM5.41 20L4 18.59l7.72-7.72 1.47 1.35L5.41 20z\"/>\n",
              "  </svg>\n",
              "      </button>\n",
              "      \n",
              "  <style>\n",
              "    .colab-df-container {\n",
              "      display:flex;\n",
              "      flex-wrap:wrap;\n",
              "      gap: 12px;\n",
              "    }\n",
              "\n",
              "    .colab-df-convert {\n",
              "      background-color: #E8F0FE;\n",
              "      border: none;\n",
              "      border-radius: 50%;\n",
              "      cursor: pointer;\n",
              "      display: none;\n",
              "      fill: #1967D2;\n",
              "      height: 32px;\n",
              "      padding: 0 0 0 0;\n",
              "      width: 32px;\n",
              "    }\n",
              "\n",
              "    .colab-df-convert:hover {\n",
              "      background-color: #E2EBFA;\n",
              "      box-shadow: 0px 1px 2px rgba(60, 64, 67, 0.3), 0px 1px 3px 1px rgba(60, 64, 67, 0.15);\n",
              "      fill: #174EA6;\n",
              "    }\n",
              "\n",
              "    [theme=dark] .colab-df-convert {\n",
              "      background-color: #3B4455;\n",
              "      fill: #D2E3FC;\n",
              "    }\n",
              "\n",
              "    [theme=dark] .colab-df-convert:hover {\n",
              "      background-color: #434B5C;\n",
              "      box-shadow: 0px 1px 3px 1px rgba(0, 0, 0, 0.15);\n",
              "      filter: drop-shadow(0px 1px 2px rgba(0, 0, 0, 0.3));\n",
              "      fill: #FFFFFF;\n",
              "    }\n",
              "  </style>\n",
              "\n",
              "      <script>\n",
              "        const buttonEl =\n",
              "          document.querySelector('#df-b5f3ed1e-8631-4fb3-9d5d-8b26bc1bff0a button.colab-df-convert');\n",
              "        buttonEl.style.display =\n",
              "          google.colab.kernel.accessAllowed ? 'block' : 'none';\n",
              "\n",
              "        async function convertToInteractive(key) {\n",
              "          const element = document.querySelector('#df-b5f3ed1e-8631-4fb3-9d5d-8b26bc1bff0a');\n",
              "          const dataTable =\n",
              "            await google.colab.kernel.invokeFunction('convertToInteractive',\n",
              "                                                     [key], {});\n",
              "          if (!dataTable) return;\n",
              "\n",
              "          const docLinkHtml = 'Like what you see? Visit the ' +\n",
              "            '<a target=\"_blank\" href=https://colab.research.google.com/notebooks/data_table.ipynb>data table notebook</a>'\n",
              "            + ' to learn more about interactive tables.';\n",
              "          element.innerHTML = '';\n",
              "          dataTable['output_type'] = 'display_data';\n",
              "          await google.colab.output.renderOutput(dataTable, element);\n",
              "          const docLink = document.createElement('div');\n",
              "          docLink.innerHTML = docLinkHtml;\n",
              "          element.appendChild(docLink);\n",
              "        }\n",
              "      </script>\n",
              "    </div>\n",
              "  </div>\n",
              "  "
            ]
          },
          "metadata": {},
          "execution_count": 66
        }
      ]
    },
    {
      "cell_type": "code",
      "source": [
        "dataframe['Sport'].value_counts().count()\n",
        "#Hiển thị tổng số môn trong Olympic"
      ],
      "metadata": {
        "colab": {
          "base_uri": "https://localhost:8080/"
        },
        "id": "yKUWQXspariZ",
        "outputId": "f515756f-d2d5-4166-d4e4-b4f02d1c3b35"
      },
      "execution_count": 116,
      "outputs": [
        {
          "output_type": "execute_result",
          "data": {
            "text/plain": [
              "7"
            ]
          },
          "metadata": {},
          "execution_count": 116
        }
      ]
    },
    {
      "cell_type": "code",
      "source": [
        "dataframe['NOC'].unique()\n",
        "#Hiển thị danh sách các quốc gia từng góp mặt trong các kì Olympic"
      ],
      "metadata": {
        "colab": {
          "base_uri": "https://localhost:8080/"
        },
        "id": "ZE6jNhIGbKWb",
        "outputId": "e92ddcb0-6671-40de-aaf8-9393c734cd00"
      },
      "execution_count": 92,
      "outputs": [
        {
          "output_type": "execute_result",
          "data": {
            "text/plain": [
              "array(['AUT', 'BEL', 'CAN', 'FIN', 'FRA', 'GBR', 'NOR', 'SUI', 'SWE',\n",
              "       'USA', 'GER', 'TCH', 'HUN', 'ITA', 'FRG', 'NED', 'EUA', 'JPN',\n",
              "       'POL', 'URS', 'PRK', 'GDR', 'ROU', 'ESP', 'LIE', 'BUL', 'YUG',\n",
              "       'CHN', 'EUN', 'KOR', 'LUX', 'NZL', 'AUS', 'BLR', 'KAZ', 'RUS',\n",
              "       'SLO', 'UKR', 'UZB', 'CZE', 'DEN', 'CRO', 'EST', 'LAT', 'SVK'],\n",
              "      dtype=object)"
            ]
          },
          "metadata": {},
          "execution_count": 92
        }
      ]
    },
    {
      "cell_type": "code",
      "source": [
        "dataframe.groupby(['Sport','Discipline']).count()\n",
        "#Hiển thị danh sách các thể loại thi đấu của mỗi loại môn thi trong Olympics"
      ],
      "metadata": {
        "colab": {
          "base_uri": "https://localhost:8080/",
          "height": 551
        },
        "id": "Ir7WVhw6eu33",
        "outputId": "6efbfeff-5dc1-4468-8bf1-00af12c0ca56"
      },
      "execution_count": 135,
      "outputs": [
        {
          "output_type": "execute_result",
          "data": {
            "text/plain": [
              "                            Year  City  NOC  Event  Event gender  Medal\n",
              "Sport      Discipline                                                  \n",
              "Biathlon   Biathlon          162   162  162    162           162    162\n",
              "Bobsleigh  Bobsleigh         115   115  115    115           115    115\n",
              "           Skeleton           18    18   18     18            18     18\n",
              "Curling    Curling            21    21   21     21            21     21\n",
              "Ice Hockey Ice Hockey         69    69   69     69            69     69\n",
              "Luge       Luge              108   108  108    108           108    108\n",
              "Skating    Figure skating    207   207  207    207           207    207\n",
              "           Short Track S.     96    96   96     96            96     96\n",
              "           Speed skating     455   455  455    455           455    455\n",
              "Skiing     Alpine Skiing     367   367  367    367           367    367\n",
              "           Cross Country S   399   399  399    399           399    399\n",
              "           Freestyle Ski.     54    54   54     54            54     54\n",
              "           Nordic Combined    84    84   84     84            84     84\n",
              "           Ski Jumping       114   114  114    114           114    114\n",
              "           Snowboard          42    42   42     42            42     42"
            ],
            "text/html": [
              "\n",
              "  <div id=\"df-8c6c6e6a-8020-456d-98ea-cd8fc56c07d9\">\n",
              "    <div class=\"colab-df-container\">\n",
              "      <div>\n",
              "<style scoped>\n",
              "    .dataframe tbody tr th:only-of-type {\n",
              "        vertical-align: middle;\n",
              "    }\n",
              "\n",
              "    .dataframe tbody tr th {\n",
              "        vertical-align: top;\n",
              "    }\n",
              "\n",
              "    .dataframe thead th {\n",
              "        text-align: right;\n",
              "    }\n",
              "</style>\n",
              "<table border=\"1\" class=\"dataframe\">\n",
              "  <thead>\n",
              "    <tr style=\"text-align: right;\">\n",
              "      <th></th>\n",
              "      <th></th>\n",
              "      <th>Year</th>\n",
              "      <th>City</th>\n",
              "      <th>NOC</th>\n",
              "      <th>Event</th>\n",
              "      <th>Event gender</th>\n",
              "      <th>Medal</th>\n",
              "    </tr>\n",
              "    <tr>\n",
              "      <th>Sport</th>\n",
              "      <th>Discipline</th>\n",
              "      <th></th>\n",
              "      <th></th>\n",
              "      <th></th>\n",
              "      <th></th>\n",
              "      <th></th>\n",
              "      <th></th>\n",
              "    </tr>\n",
              "  </thead>\n",
              "  <tbody>\n",
              "    <tr>\n",
              "      <th>Biathlon</th>\n",
              "      <th>Biathlon</th>\n",
              "      <td>162</td>\n",
              "      <td>162</td>\n",
              "      <td>162</td>\n",
              "      <td>162</td>\n",
              "      <td>162</td>\n",
              "      <td>162</td>\n",
              "    </tr>\n",
              "    <tr>\n",
              "      <th rowspan=\"2\" valign=\"top\">Bobsleigh</th>\n",
              "      <th>Bobsleigh</th>\n",
              "      <td>115</td>\n",
              "      <td>115</td>\n",
              "      <td>115</td>\n",
              "      <td>115</td>\n",
              "      <td>115</td>\n",
              "      <td>115</td>\n",
              "    </tr>\n",
              "    <tr>\n",
              "      <th>Skeleton</th>\n",
              "      <td>18</td>\n",
              "      <td>18</td>\n",
              "      <td>18</td>\n",
              "      <td>18</td>\n",
              "      <td>18</td>\n",
              "      <td>18</td>\n",
              "    </tr>\n",
              "    <tr>\n",
              "      <th>Curling</th>\n",
              "      <th>Curling</th>\n",
              "      <td>21</td>\n",
              "      <td>21</td>\n",
              "      <td>21</td>\n",
              "      <td>21</td>\n",
              "      <td>21</td>\n",
              "      <td>21</td>\n",
              "    </tr>\n",
              "    <tr>\n",
              "      <th>Ice Hockey</th>\n",
              "      <th>Ice Hockey</th>\n",
              "      <td>69</td>\n",
              "      <td>69</td>\n",
              "      <td>69</td>\n",
              "      <td>69</td>\n",
              "      <td>69</td>\n",
              "      <td>69</td>\n",
              "    </tr>\n",
              "    <tr>\n",
              "      <th>Luge</th>\n",
              "      <th>Luge</th>\n",
              "      <td>108</td>\n",
              "      <td>108</td>\n",
              "      <td>108</td>\n",
              "      <td>108</td>\n",
              "      <td>108</td>\n",
              "      <td>108</td>\n",
              "    </tr>\n",
              "    <tr>\n",
              "      <th rowspan=\"3\" valign=\"top\">Skating</th>\n",
              "      <th>Figure skating</th>\n",
              "      <td>207</td>\n",
              "      <td>207</td>\n",
              "      <td>207</td>\n",
              "      <td>207</td>\n",
              "      <td>207</td>\n",
              "      <td>207</td>\n",
              "    </tr>\n",
              "    <tr>\n",
              "      <th>Short Track S.</th>\n",
              "      <td>96</td>\n",
              "      <td>96</td>\n",
              "      <td>96</td>\n",
              "      <td>96</td>\n",
              "      <td>96</td>\n",
              "      <td>96</td>\n",
              "    </tr>\n",
              "    <tr>\n",
              "      <th>Speed skating</th>\n",
              "      <td>455</td>\n",
              "      <td>455</td>\n",
              "      <td>455</td>\n",
              "      <td>455</td>\n",
              "      <td>455</td>\n",
              "      <td>455</td>\n",
              "    </tr>\n",
              "    <tr>\n",
              "      <th rowspan=\"6\" valign=\"top\">Skiing</th>\n",
              "      <th>Alpine Skiing</th>\n",
              "      <td>367</td>\n",
              "      <td>367</td>\n",
              "      <td>367</td>\n",
              "      <td>367</td>\n",
              "      <td>367</td>\n",
              "      <td>367</td>\n",
              "    </tr>\n",
              "    <tr>\n",
              "      <th>Cross Country S</th>\n",
              "      <td>399</td>\n",
              "      <td>399</td>\n",
              "      <td>399</td>\n",
              "      <td>399</td>\n",
              "      <td>399</td>\n",
              "      <td>399</td>\n",
              "    </tr>\n",
              "    <tr>\n",
              "      <th>Freestyle Ski.</th>\n",
              "      <td>54</td>\n",
              "      <td>54</td>\n",
              "      <td>54</td>\n",
              "      <td>54</td>\n",
              "      <td>54</td>\n",
              "      <td>54</td>\n",
              "    </tr>\n",
              "    <tr>\n",
              "      <th>Nordic Combined</th>\n",
              "      <td>84</td>\n",
              "      <td>84</td>\n",
              "      <td>84</td>\n",
              "      <td>84</td>\n",
              "      <td>84</td>\n",
              "      <td>84</td>\n",
              "    </tr>\n",
              "    <tr>\n",
              "      <th>Ski Jumping</th>\n",
              "      <td>114</td>\n",
              "      <td>114</td>\n",
              "      <td>114</td>\n",
              "      <td>114</td>\n",
              "      <td>114</td>\n",
              "      <td>114</td>\n",
              "    </tr>\n",
              "    <tr>\n",
              "      <th>Snowboard</th>\n",
              "      <td>42</td>\n",
              "      <td>42</td>\n",
              "      <td>42</td>\n",
              "      <td>42</td>\n",
              "      <td>42</td>\n",
              "      <td>42</td>\n",
              "    </tr>\n",
              "  </tbody>\n",
              "</table>\n",
              "</div>\n",
              "      <button class=\"colab-df-convert\" onclick=\"convertToInteractive('df-8c6c6e6a-8020-456d-98ea-cd8fc56c07d9')\"\n",
              "              title=\"Convert this dataframe to an interactive table.\"\n",
              "              style=\"display:none;\">\n",
              "        \n",
              "  <svg xmlns=\"http://www.w3.org/2000/svg\" height=\"24px\"viewBox=\"0 0 24 24\"\n",
              "       width=\"24px\">\n",
              "    <path d=\"M0 0h24v24H0V0z\" fill=\"none\"/>\n",
              "    <path d=\"M18.56 5.44l.94 2.06.94-2.06 2.06-.94-2.06-.94-.94-2.06-.94 2.06-2.06.94zm-11 1L8.5 8.5l.94-2.06 2.06-.94-2.06-.94L8.5 2.5l-.94 2.06-2.06.94zm10 10l.94 2.06.94-2.06 2.06-.94-2.06-.94-.94-2.06-.94 2.06-2.06.94z\"/><path d=\"M17.41 7.96l-1.37-1.37c-.4-.4-.92-.59-1.43-.59-.52 0-1.04.2-1.43.59L10.3 9.45l-7.72 7.72c-.78.78-.78 2.05 0 2.83L4 21.41c.39.39.9.59 1.41.59.51 0 1.02-.2 1.41-.59l7.78-7.78 2.81-2.81c.8-.78.8-2.07 0-2.86zM5.41 20L4 18.59l7.72-7.72 1.47 1.35L5.41 20z\"/>\n",
              "  </svg>\n",
              "      </button>\n",
              "      \n",
              "  <style>\n",
              "    .colab-df-container {\n",
              "      display:flex;\n",
              "      flex-wrap:wrap;\n",
              "      gap: 12px;\n",
              "    }\n",
              "\n",
              "    .colab-df-convert {\n",
              "      background-color: #E8F0FE;\n",
              "      border: none;\n",
              "      border-radius: 50%;\n",
              "      cursor: pointer;\n",
              "      display: none;\n",
              "      fill: #1967D2;\n",
              "      height: 32px;\n",
              "      padding: 0 0 0 0;\n",
              "      width: 32px;\n",
              "    }\n",
              "\n",
              "    .colab-df-convert:hover {\n",
              "      background-color: #E2EBFA;\n",
              "      box-shadow: 0px 1px 2px rgba(60, 64, 67, 0.3), 0px 1px 3px 1px rgba(60, 64, 67, 0.15);\n",
              "      fill: #174EA6;\n",
              "    }\n",
              "\n",
              "    [theme=dark] .colab-df-convert {\n",
              "      background-color: #3B4455;\n",
              "      fill: #D2E3FC;\n",
              "    }\n",
              "\n",
              "    [theme=dark] .colab-df-convert:hover {\n",
              "      background-color: #434B5C;\n",
              "      box-shadow: 0px 1px 3px 1px rgba(0, 0, 0, 0.15);\n",
              "      filter: drop-shadow(0px 1px 2px rgba(0, 0, 0, 0.3));\n",
              "      fill: #FFFFFF;\n",
              "    }\n",
              "  </style>\n",
              "\n",
              "      <script>\n",
              "        const buttonEl =\n",
              "          document.querySelector('#df-8c6c6e6a-8020-456d-98ea-cd8fc56c07d9 button.colab-df-convert');\n",
              "        buttonEl.style.display =\n",
              "          google.colab.kernel.accessAllowed ? 'block' : 'none';\n",
              "\n",
              "        async function convertToInteractive(key) {\n",
              "          const element = document.querySelector('#df-8c6c6e6a-8020-456d-98ea-cd8fc56c07d9');\n",
              "          const dataTable =\n",
              "            await google.colab.kernel.invokeFunction('convertToInteractive',\n",
              "                                                     [key], {});\n",
              "          if (!dataTable) return;\n",
              "\n",
              "          const docLinkHtml = 'Like what you see? Visit the ' +\n",
              "            '<a target=\"_blank\" href=https://colab.research.google.com/notebooks/data_table.ipynb>data table notebook</a>'\n",
              "            + ' to learn more about interactive tables.';\n",
              "          element.innerHTML = '';\n",
              "          dataTable['output_type'] = 'display_data';\n",
              "          await google.colab.output.renderOutput(dataTable, element);\n",
              "          const docLink = document.createElement('div');\n",
              "          docLink.innerHTML = docLinkHtml;\n",
              "          element.appendChild(docLink);\n",
              "        }\n",
              "      </script>\n",
              "    </div>\n",
              "  </div>\n",
              "  "
            ]
          },
          "metadata": {},
          "execution_count": 135
        }
      ]
    },
    {
      "cell_type": "code",
      "source": [
        "counts = dataframe[(dataframe['NOC'] == 'FRA')&(dataframe['Event gender'] == 'W')&(dataframe['Medal'] == 'Gold')&(dataframe['Year'] >= 1940)&(dataframe['Year'] <= 2000)].value_counts()\n",
        "print(counts)\n",
        "#Liệt kê các lần Pháp có nữ vận động viên đạt huy chương vàng từ năm 1980 đến năm 2000"
      ],
      "metadata": {
        "colab": {
          "base_uri": "https://localhost:8080/"
        },
        "id": "suHTefPdhHgW",
        "outputId": "9a67eff8-fec7-46e4-fc5a-35c5e7d0822a"
      },
      "execution_count": 226,
      "outputs": [
        {
          "output_type": "stream",
          "name": "stdout",
          "text": [
            "Year  City         Sport     Discipline     NOC  Event          Event gender  Medal\n",
            "1964  Innsbruck    Skiing    Alpine Skiing  FRA  giant slalom   W             Gold     1\n",
            "                                                 slalom         W             Gold     1\n",
            "1968  Grenoble     Skiing    Alpine Skiing  FRA  slalom         W             Gold     1\n",
            "1992  Albertville  Biathlon  Biathlon       FRA  3x7.5km relay  W             Gold     1\n",
            "1998  Nagano       Skiing    Snowboard      FRA  giant-slalom   W             Gold     1\n",
            "dtype: int64\n"
          ]
        }
      ]
    },
    {
      "cell_type": "code",
      "source": [
        "#Hiển thị năm đầu tiên, năm gần đây nhất và tổng số kì Olympic đã diễn ra\n",
        "Year_min = dataframe['Year'].min()\n",
        "Year_max = dataframe['Year'].max()\n",
        "print('Năm đầu tiên kì olympics được tổ chức là',Year_min)\n",
        "print('Năm cuối cùng kì olympics được ghi lại trong data là',Year_max)\n",
        "So_ki_Olympic_da_to_chuc = dataframe['Year'].value_counts().count()\n",
        "print('Số kì olympic đã tổ chức từ', Year_min, 'đến', Year_max, 'là' , So_ki_Olympic_da_to_chuc)"
      ],
      "metadata": {
        "colab": {
          "base_uri": "https://localhost:8080/"
        },
        "id": "zP8LJaDtov6m",
        "outputId": "bb4ed4ef-e9a7-4d30-83b5-0cfc1f11b1c8"
      },
      "execution_count": 223,
      "outputs": [
        {
          "output_type": "stream",
          "name": "stdout",
          "text": [
            "Năm đầu tiên kì olympics được tổ chức là 1924\n",
            "Năm cuối cùng kì olympics được ghi lại trong data là 2006\n",
            "Số kì olympic đã tổ chức từ 1924 đến 2006 là 20\n"
          ]
        }
      ]
    },
    {
      "cell_type": "code",
      "source": [
        "#Hiển thị tổng số huy chương vàng, bạc và đồng của Mĩ đạt được từ đến lúc bắt đầu đến trước năm 2002 \n",
        "gold_medal_USA = dataframe[(dataframe['NOC'] == 'USA')&(dataframe['Medal'] == 'Gold')&(dataframe['Year'] < 2002)]['Medal'].count()\n",
        "silver_medal_USA = dataframe[(dataframe['NOC'] == 'USA')&(dataframe['Medal'] == 'Silver')&(dataframe['Year'] < 2002)]['Medal'].count()\n",
        "bronze_medal_USA = dataframe[(dataframe['NOC'] == 'USA')&(dataframe['Medal'] == 'Bronze')&(dataframe['Year'] < 2002)]['Medal'].count()\n",
        "print('Từ lúc Olympic bắt đầu đến trước năm 2002, Mĩ đã đạt được:\\n', gold_medal_USA, 'huy chương vàng\\n', silver_medal_USA, 'huy chương bạc\\n', bronze_medal_USA, 'huy chương đồng\\n')"
      ],
      "metadata": {
        "colab": {
          "base_uri": "https://localhost:8080/"
        },
        "id": "0osLRP0bv1Wz",
        "outputId": "67f4f467-7f4a-43bc-b843-db4366b729f0"
      },
      "execution_count": 227,
      "outputs": [
        {
          "output_type": "stream",
          "name": "stdout",
          "text": [
            "Từ lúc Olympic bắt đầu đến trước năm 2002, Mĩ đã đạt được:\n",
            " 59 huy chương vàng\n",
            " 58 huy chương bạc\n",
            " 40 huy chương đồng\n",
            "\n"
          ]
        }
      ]
    },
    {
      "cell_type": "code",
      "source": [
        "#Hiển thị top 3 quốc gia có số lượng vận động viên nam đạt huy chương vàng nhiều nhất đến trước năm 2002\n",
        "dataframe[(dataframe['Medal'] == 'Gold')&(dataframe['Event gender'] == 'M')&(dataframe['Year'] < 2002)]['NOC'].value_counts().head(3)"
      ],
      "metadata": {
        "colab": {
          "base_uri": "https://localhost:8080/"
        },
        "id": "yUyBrwNLz0Or",
        "outputId": "0fe91e00-02e0-436c-cd42-967c5fc56ed7"
      },
      "execution_count": 228,
      "outputs": [
        {
          "output_type": "execute_result",
          "data": {
            "text/plain": [
              "NOR    76\n",
              "URS    41\n",
              "USA    33\n",
              "Name: NOC, dtype: int64"
            ]
          },
          "metadata": {},
          "execution_count": 228
        }
      ]
    }
  ]
}

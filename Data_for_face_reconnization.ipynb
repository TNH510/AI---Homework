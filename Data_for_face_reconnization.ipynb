{
  "nbformat": 4,
  "nbformat_minor": 0,
  "metadata": {
    "colab": {
      "provenance": [],
      "gpuType": "T4",
      "mount_file_id": "1zD3I24e1rGWGZtwsK-XmAvksDVNFfanO",
      "authorship_tag": "ABX9TyPHzh7D9LVQf05tzUx+Bohj",
      "include_colab_link": true
    },
    "kernelspec": {
      "name": "python3",
      "display_name": "Python 3"
    },
    "language_info": {
      "name": "python"
    },
    "accelerator": "GPU",
    "gpuClass": "standard"
  },
  "cells": [
    {
      "cell_type": "markdown",
      "metadata": {
        "id": "view-in-github",
        "colab_type": "text"
      },
      "source": [
        "<a href=\"https://colab.research.google.com/github/TNH510/Artificial-Intelligence/blob/main/Data_for_face_reconnization.ipynb\" target=\"_parent\"><img src=\"https://colab.research.google.com/assets/colab-badge.svg\" alt=\"Open In Colab\"/></a>"
      ]
    },
    {
      "cell_type": "code",
      "source": [
        "from os import listdir\n",
        "from numpy import asarray, save\n",
        "from keras.utils import load_img\n",
        "from keras.utils import img_to_array"
      ],
      "metadata": {
        "id": "WXon2cgTeImj"
      },
      "execution_count": null,
      "outputs": []
    },
    {
      "cell_type": "code",
      "source": [
        "folder = '/content/drive/MyDrive/AI/My_photo/'\n",
        "photos, labels = list(), list()\n",
        "for file in listdir(folder):\n",
        "  output= 0.0\n",
        "  if file.startswith('Hieu_'):\n",
        "    output= 1.0\n",
        "  if file.startswith('dung'):\n",
        "    output= 2.0\n",
        "  photo = load_img(folder + file, target_size= (30,40))\n",
        "  photo= img_to_array(photo)\n",
        "\n",
        "  photos.append(photo)\n",
        "  labels.append(output)\n",
        "\n",
        "photos= asarray(photos)\n",
        "labels= asarray(labels)\n",
        "print(photos.shape, labels.shape)\n",
        "save('/content/drive/MyDrive/AI/Data_photo/Hieu_Dung_photos.npy', photos)\n",
        "save('/content/drive/MyDrive/AI/Data_photo/Hieu_Dung_labels.npy', labels)\n"
      ],
      "metadata": {
        "colab": {
          "base_uri": "https://localhost:8080/"
        },
        "id": "QHHNlcygI0He",
        "outputId": "c4f5d0fe-b2b6-441b-c3e0-aab463446469"
      },
      "execution_count": null,
      "outputs": [
        {
          "output_type": "stream",
          "name": "stdout",
          "text": [
            "(120, 30, 40, 3) (120,)\n"
          ]
        }
      ]
    },
    {
      "cell_type": "code",
      "source": [],
      "metadata": {
        "id": "-zd__7spJBfQ"
      },
      "execution_count": null,
      "outputs": []
    }
  ]
}
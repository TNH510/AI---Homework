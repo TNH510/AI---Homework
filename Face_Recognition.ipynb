{
  "cells": [
    {
      "cell_type": "markdown",
      "metadata": {
        "id": "view-in-github",
        "colab_type": "text"
      },
      "source": [
        "<a href=\"https://colab.research.google.com/github/TNH510/Artificial-Intelligence/blob/main/Face_Recognition.ipynb\" target=\"_parent\"><img src=\"https://colab.research.google.com/assets/colab-badge.svg\" alt=\"Open In Colab\"/></a>"
      ]
    },
    {
      "cell_type": "code",
      "execution_count": null,
      "metadata": {
        "id": "WXon2cgTeImj"
      },
      "outputs": [],
      "source": [
        "from os import listdir\n",
        "from numpy import asarray, save\n",
        "from keras.utils import load_img\n",
        "from keras.utils import img_to_array\n",
        "import numpy as np\n",
        "from sklearn.model_selection import train_test_split\n",
        "from keras.datasets import cifar100\n",
        "import matplotlib.pyplot as plt\n",
        "from keras.layers import Dense, Dropout, Flatten, Conv2D, MaxPooling2D, Normalization\n",
        "from keras.models import Sequential, Model\n",
        "from keras import Input\n",
        "from keras.layers import LeakyReLU\n",
        "from keras.optimizers import Adam"
      ]
    },
    {
      "cell_type": "code",
      "source": [
        "from google.colab import drive\n",
        "drive.mount('/content/drive')"
      ],
      "metadata": {
        "colab": {
          "base_uri": "https://localhost:8080/"
        },
        "id": "w1ttjp9HhOv0",
        "outputId": "d7df7eae-3fda-4dd0-9bb9-5aaea644cefe"
      },
      "execution_count": null,
      "outputs": [
        {
          "output_type": "stream",
          "name": "stdout",
          "text": [
            "Mounted at /content/drive\n"
          ]
        }
      ]
    },
    {
      "cell_type": "code",
      "execution_count": null,
      "metadata": {
        "colab": {
          "base_uri": "https://localhost:8080/"
        },
        "id": "CCo_MmNO1DRF",
        "outputId": "e2cb4b22-4880-4fb9-97a7-f2e1ac9ed422"
      },
      "outputs": [
        {
          "output_type": "stream",
          "name": "stdout",
          "text": [
            "(2107, 40, 40, 3) (2107,)\n"
          ]
        }
      ],
      "source": [
        "from numpy import asarray\n",
        "\n",
        "folder = '/content/drive/MyDrive/Face Recognition/Data/'\n",
        "photos, labels = list(), list()\n",
        "for file in listdir(folder):\n",
        "  output = 0.0\n",
        "  if file.startswith('dung'):\n",
        "    output = 0\n",
        "  if file.startswith('Ha'):\n",
        "    output = 1\n",
        "  if file.startswith('hakiet'):\n",
        "    output = 2\n",
        "  if file.startswith('hau'):\n",
        "    output = 3\n",
        "  if file.startswith('Hieu'):\n",
        "    output = 4\n",
        "  if file.startswith('hoaifong'):\n",
        "    output = 5\n",
        "  if file.startswith('Hoang'):\n",
        "    output = 6\n",
        "  if file.startswith('HQHuy'):\n",
        "    output = 7\n",
        "  if file.startswith('HuuLong'):\n",
        "    output = 8\n",
        "  if file.startswith('Khoa'):\n",
        "    output = 9\n",
        "  if file.startswith('khuong'):\n",
        "    output = 10\n",
        "  if file.startswith('kiet'):\n",
        "    output = 11\n",
        "  if file.startswith('KyAnh'):\n",
        "    output = 12\n",
        "  if file.startswith('Loc'):\n",
        "    output = 13\n",
        "  if file.startswith('Luan'):\n",
        "    output = 14\n",
        "  if file.startswith('minh'):\n",
        "    output = 15\n",
        "  if file.startswith('ngocThach'):\n",
        "    output = 16\n",
        "  if file.startswith('NhatHuy'):\n",
        "    output = 17\n",
        "  if file.startswith('NTKiet'):\n",
        "    output = 18\n",
        "  if file.startswith('Phat'):\n",
        "    output = 19\n",
        "  if file.startswith('Phuc'):\n",
        "    output = 20\n",
        "  if file.startswith('pqhuy'):\n",
        "    output = 21\n",
        "  if file.startswith('QuangPhuc'):\n",
        "    output = 22\n",
        "  if file.startswith('sang'):\n",
        "    output = 23\n",
        "  if file.startswith('SonTung'):\n",
        "    output = 24\n",
        "  if file.startswith('TanDat'):\n",
        "    output = 25\n",
        "  if file.startswith('thai'):\n",
        "    output = 26\n",
        "  if file.startswith('thang'):\n",
        "    output = 27\n",
        "  if file.startswith('thanh'):\n",
        "    output = 28\n",
        "  if file.startswith('Thao'):\n",
        "    output = 29\n",
        "  if file.startswith('Thinh'):\n",
        "    output = 30\n",
        "  if file.startswith('tien'):\n",
        "    output = 31\n",
        "  if file.startswith('TLoc'):\n",
        "    output = 32\n",
        "  if file.startswith('Trong'):\n",
        "    output = 33\n",
        "  if file.startswith('Van'):\n",
        "    output = 34\n",
        "  if file.startswith('VuThach'):\n",
        "    output = 35\n",
        "  photo = load_img(folder + file, target_size=(40, 40))\n",
        "  photo = img_to_array(photo)\n",
        "  photos.append(photo)\n",
        "  labels.append(output)\n",
        "\n",
        "photos = asarray(photos)\n",
        "labels = asarray(labels)\n",
        "print(photos.shape, labels.shape)\n",
        "save('/content/drive/MyDrive/Face Recognition/Face_photos.npy', photos)\n",
        "save('/content/drive/MyDrive/Face Recognition/Face_labels.npy', labels)"
      ]
    },
    {
      "cell_type": "code",
      "execution_count": null,
      "metadata": {
        "id": "tnmBZ8WjGUtB"
      },
      "outputs": [],
      "source": [
        "# Load images and labels\n",
        "from keras.utils import to_categorical #one hot encoding\n",
        "photos = np.load('/content/drive/MyDrive/Face Recognition/Face_photos.npy')\n",
        "labels = np.load('/content/drive/MyDrive/Face Recognition/Face_labels.npy')\n",
        "labels_one_hot = to_categorical(labels)\n",
        "x_train, x_test, y_train, y_test = train_test_split(photos, labels_one_hot, test_size = 0.3, random_state = 100)"
      ]
    },
    {
      "cell_type": "code",
      "execution_count": null,
      "metadata": {
        "id": "zpYdKFaF1zF8",
        "colab": {
          "base_uri": "https://localhost:8080/"
        },
        "outputId": "cdf57994-14d0-4111-ba23-2dfbda658c02"
      },
      "outputs": [
        {
          "output_type": "stream",
          "name": "stdout",
          "text": [
            "Model: \"sequential\"\n",
            "_________________________________________________________________\n",
            " Layer (type)                Output Shape              Param #   \n",
            "=================================================================\n",
            " conv2d (Conv2D)             (None, 40, 40, 32)        896       \n",
            "                                                                 \n",
            " max_pooling2d (MaxPooling2D  (None, 20, 20, 32)       0         \n",
            " )                                                               \n",
            "                                                                 \n",
            " conv2d_1 (Conv2D)           (None, 20, 20, 64)        18496     \n",
            "                                                                 \n",
            " max_pooling2d_1 (MaxPooling  (None, 10, 10, 64)       0         \n",
            " 2D)                                                             \n",
            "                                                                 \n",
            " conv2d_2 (Conv2D)           (None, 10, 10, 64)        36928     \n",
            "                                                                 \n",
            " conv2d_3 (Conv2D)           (None, 10, 10, 64)        36928     \n",
            "                                                                 \n",
            " max_pooling2d_2 (MaxPooling  (None, 5, 5, 64)         0         \n",
            " 2D)                                                             \n",
            "                                                                 \n",
            " conv2d_4 (Conv2D)           (None, 5, 5, 128)         73856     \n",
            "                                                                 \n",
            " conv2d_5 (Conv2D)           (None, 5, 5, 128)         147584    \n",
            "                                                                 \n",
            " max_pooling2d_3 (MaxPooling  (None, 3, 3, 128)        0         \n",
            " 2D)                                                             \n",
            "                                                                 \n",
            " flatten (Flatten)           (None, 1152)              0         \n",
            "                                                                 \n",
            " dense (Dense)               (None, 1024)              1180672   \n",
            "                                                                 \n",
            " dropout (Dropout)           (None, 1024)              0         \n",
            "                                                                 \n",
            " dense_1 (Dense)             (None, 1024)              1049600   \n",
            "                                                                 \n",
            " dropout_1 (Dropout)         (None, 1024)              0         \n",
            "                                                                 \n",
            " dense_2 (Dense)             (None, 36)                36900     \n",
            "                                                                 \n",
            "=================================================================\n",
            "Total params: 2,581,860\n",
            "Trainable params: 2,581,860\n",
            "Non-trainable params: 0\n",
            "_________________________________________________________________\n"
          ]
        }
      ],
      "source": [
        "model = Sequential()\n",
        "#Convolutional\n",
        "model.add(Conv2D(32, kernel_size= (3,3), activation= 'relu', input_shape = (40,40,3), padding= 'same'))\n",
        "model.add(MaxPooling2D((2,2), padding= 'same'))\n",
        "\n",
        "model.add(Conv2D(64, kernel_size= (3,3), activation= 'relu', padding= 'same'))\n",
        "model.add(MaxPooling2D((2,2), padding= 'same'))\n",
        "\n",
        "model.add(Conv2D(64, kernel_size= (3,3), activation= 'relu', padding= 'same'))\n",
        "model.add(Conv2D(64, kernel_size= (3,3), activation= 'relu', padding= 'same'))\n",
        "model.add(MaxPooling2D((2,2), padding= 'same'))\n",
        "\n",
        "model.add(Conv2D(128, kernel_size= (3,3), activation= 'relu', padding= 'same'))\n",
        "model.add(Conv2D(128, kernel_size= (3,3), activation= 'relu', padding= 'same'))\n",
        "model.add(MaxPooling2D((2,2), padding= 'same'))\n",
        "\n",
        "# Fully connected layers\n",
        "model.add(Flatten())\n",
        "model.add(Dense(1024, activation= 'relu'))\n",
        "model.add(Dropout(0.5))\n",
        "model.add(Dense(1024, activation= 'relu'))\n",
        "model.add(Dropout(0.5))\n",
        "model.add(Dense(36, activation= 'softmax'))\n",
        "model.compile(loss='categorical_crossentropy', optimizer = Adam(), metrics=['accuracy'])\n",
        "model.summary()"
      ]
    },
    {
      "cell_type": "code",
      "execution_count": null,
      "metadata": {
        "id": "punm84wt3KoD"
      },
      "outputs": [],
      "source": [
        "#Tang cuong data\n",
        "from keras.preprocessing.image import ImageDataGenerator\n",
        "aug = ImageDataGenerator(rotation_range=20, zoom_range=0.1,\n",
        "    rescale=1./255,\n",
        "\twidth_shift_range=0.1,\n",
        "    height_shift_range=0.1,\n",
        "\thorizontal_flip=True,\n",
        "    brightness_range=[0.2,1.5], fill_mode=\"nearest\")"
      ]
    },
    {
      "cell_type": "code",
      "execution_count": null,
      "metadata": {
        "colab": {
          "base_uri": "https://localhost:8080/"
        },
        "id": "NeuKYzHU3idY",
        "outputId": "005f3a72-7117-4e19-c666-8e0498a05751"
      },
      "outputs": [
        {
          "output_type": "stream",
          "name": "stderr",
          "text": [
            "<ipython-input-7-408fd8c73c5d>:1: UserWarning: `Model.fit_generator` is deprecated and will be removed in a future version. Please use `Model.fit`, which supports generators.\n",
            "  train = model.fit_generator(aug.flow(x_train, y_train, batch_size=64),\n"
          ]
        },
        {
          "output_type": "stream",
          "name": "stdout",
          "text": [
            "Epoch 1/100\n",
            "24/24 [==============================] - 15s 244ms/step - loss: 3.5855 - accuracy: 0.0265 - val_loss: 3.5841 - val_accuracy: 0.0158\n",
            "Epoch 2/100\n",
            "24/24 [==============================] - 2s 91ms/step - loss: 3.5739 - accuracy: 0.0305 - val_loss: 3.5878 - val_accuracy: 0.0205\n",
            "Epoch 3/100\n",
            "24/24 [==============================] - 2s 91ms/step - loss: 3.4941 - accuracy: 0.0387 - val_loss: 3.4676 - val_accuracy: 0.0458\n",
            "Epoch 4/100\n",
            "24/24 [==============================] - 2s 90ms/step - loss: 3.2997 - accuracy: 0.0855 - val_loss: 3.2853 - val_accuracy: 0.0537\n",
            "Epoch 5/100\n",
            "24/24 [==============================] - 2s 90ms/step - loss: 3.1208 - accuracy: 0.1187 - val_loss: 3.0106 - val_accuracy: 0.1374\n",
            "Epoch 6/100\n",
            "24/24 [==============================] - 3s 125ms/step - loss: 2.7755 - accuracy: 0.1974 - val_loss: 2.4422 - val_accuracy: 0.2986\n",
            "Epoch 7/100\n",
            "24/24 [==============================] - 2s 89ms/step - loss: 2.3383 - accuracy: 0.2965 - val_loss: 2.1156 - val_accuracy: 0.3965\n",
            "Epoch 8/100\n",
            "24/24 [==============================] - 2s 102ms/step - loss: 1.9441 - accuracy: 0.4009 - val_loss: 1.9056 - val_accuracy: 0.3839\n",
            "Epoch 9/100\n",
            "24/24 [==============================] - 2s 90ms/step - loss: 1.7337 - accuracy: 0.4756 - val_loss: 1.4802 - val_accuracy: 0.5371\n",
            "Epoch 10/100\n",
            "24/24 [==============================] - 3s 110ms/step - loss: 1.4873 - accuracy: 0.5353 - val_loss: 1.2568 - val_accuracy: 0.5893\n",
            "Epoch 11/100\n",
            "24/24 [==============================] - 2s 91ms/step - loss: 1.3453 - accuracy: 0.5821 - val_loss: 1.2271 - val_accuracy: 0.6193\n",
            "Epoch 12/100\n",
            "24/24 [==============================] - 2s 92ms/step - loss: 1.1935 - accuracy: 0.6147 - val_loss: 0.9880 - val_accuracy: 0.6904\n",
            "Epoch 13/100\n",
            "24/24 [==============================] - 2s 90ms/step - loss: 1.1646 - accuracy: 0.6370 - val_loss: 1.0308 - val_accuracy: 0.6888\n",
            "Epoch 14/100\n",
            "24/24 [==============================] - 2s 89ms/step - loss: 0.9917 - accuracy: 0.6886 - val_loss: 0.8411 - val_accuracy: 0.7425\n",
            "Epoch 15/100\n",
            "24/24 [==============================] - 3s 146ms/step - loss: 0.8511 - accuracy: 0.7368 - val_loss: 0.7163 - val_accuracy: 0.7662\n",
            "Epoch 16/100\n",
            "24/24 [==============================] - 2s 94ms/step - loss: 0.8445 - accuracy: 0.7320 - val_loss: 0.9191 - val_accuracy: 0.6998\n",
            "Epoch 17/100\n",
            "24/24 [==============================] - 3s 131ms/step - loss: 0.7521 - accuracy: 0.7687 - val_loss: 0.8926 - val_accuracy: 0.7204\n",
            "Epoch 18/100\n",
            "24/24 [==============================] - 2s 91ms/step - loss: 0.7108 - accuracy: 0.7748 - val_loss: 0.6539 - val_accuracy: 0.7946\n",
            "Epoch 19/100\n",
            "24/24 [==============================] - 4s 191ms/step - loss: 0.6576 - accuracy: 0.7931 - val_loss: 0.5868 - val_accuracy: 0.8136\n",
            "Epoch 20/100\n",
            "24/24 [==============================] - 3s 106ms/step - loss: 0.5889 - accuracy: 0.8046 - val_loss: 0.5662 - val_accuracy: 0.8452\n",
            "Epoch 21/100\n",
            "24/24 [==============================] - 2s 89ms/step - loss: 0.5324 - accuracy: 0.8331 - val_loss: 0.5186 - val_accuracy: 0.8373\n",
            "Epoch 22/100\n",
            "24/24 [==============================] - 2s 91ms/step - loss: 0.4561 - accuracy: 0.8609 - val_loss: 0.4818 - val_accuracy: 0.8468\n",
            "Epoch 23/100\n",
            "24/24 [==============================] - 2s 88ms/step - loss: 0.5172 - accuracy: 0.8345 - val_loss: 0.6373 - val_accuracy: 0.8325\n",
            "Epoch 24/100\n",
            "24/24 [==============================] - 3s 147ms/step - loss: 0.4593 - accuracy: 0.8650 - val_loss: 0.4056 - val_accuracy: 0.8720\n",
            "Epoch 25/100\n",
            "24/24 [==============================] - 2s 89ms/step - loss: 0.3491 - accuracy: 0.8826 - val_loss: 0.4001 - val_accuracy: 0.8752\n",
            "Epoch 26/100\n",
            "24/24 [==============================] - 2s 91ms/step - loss: 0.3634 - accuracy: 0.8881 - val_loss: 0.3451 - val_accuracy: 0.8957\n",
            "Epoch 27/100\n",
            "24/24 [==============================] - 2s 86ms/step - loss: 0.3220 - accuracy: 0.9016 - val_loss: 0.3301 - val_accuracy: 0.8957\n",
            "Epoch 28/100\n",
            "24/24 [==============================] - 2s 86ms/step - loss: 0.3504 - accuracy: 0.8908 - val_loss: 0.3456 - val_accuracy: 0.8847\n",
            "Epoch 29/100\n",
            "24/24 [==============================] - 3s 145ms/step - loss: 0.3019 - accuracy: 0.9050 - val_loss: 0.3004 - val_accuracy: 0.9068\n",
            "Epoch 30/100\n",
            "24/24 [==============================] - 2s 87ms/step - loss: 0.4272 - accuracy: 0.8548 - val_loss: 0.3713 - val_accuracy: 0.8815\n",
            "Epoch 31/100\n",
            "24/24 [==============================] - 2s 88ms/step - loss: 0.3594 - accuracy: 0.8887 - val_loss: 0.2619 - val_accuracy: 0.9194\n",
            "Epoch 32/100\n",
            "24/24 [==============================] - 2s 90ms/step - loss: 0.3068 - accuracy: 0.9125 - val_loss: 0.2766 - val_accuracy: 0.9179\n",
            "Epoch 33/100\n",
            "24/24 [==============================] - 3s 120ms/step - loss: 0.2851 - accuracy: 0.8969 - val_loss: 0.3646 - val_accuracy: 0.9036\n",
            "Epoch 34/100\n",
            "24/24 [==============================] - 2s 87ms/step - loss: 0.2770 - accuracy: 0.9213 - val_loss: 0.2730 - val_accuracy: 0.9115\n",
            "Epoch 35/100\n",
            "24/24 [==============================] - 2s 88ms/step - loss: 0.2274 - accuracy: 0.9199 - val_loss: 0.2639 - val_accuracy: 0.9210\n",
            "Epoch 36/100\n",
            "24/24 [==============================] - 2s 86ms/step - loss: 0.2552 - accuracy: 0.9152 - val_loss: 0.2212 - val_accuracy: 0.9431\n",
            "Epoch 37/100\n",
            "24/24 [==============================] - 2s 88ms/step - loss: 0.2130 - accuracy: 0.9362 - val_loss: 0.2632 - val_accuracy: 0.9352\n",
            "Epoch 38/100\n",
            "24/24 [==============================] - 3s 135ms/step - loss: 0.5074 - accuracy: 0.8460 - val_loss: 0.4647 - val_accuracy: 0.8547\n",
            "Epoch 39/100\n",
            "24/24 [==============================] - 2s 88ms/step - loss: 0.3756 - accuracy: 0.8921 - val_loss: 0.3158 - val_accuracy: 0.9068\n",
            "Epoch 40/100\n",
            "24/24 [==============================] - 2s 89ms/step - loss: 0.5894 - accuracy: 0.8379 - val_loss: 0.3764 - val_accuracy: 0.8768\n",
            "Epoch 41/100\n",
            "24/24 [==============================] - 2s 88ms/step - loss: 0.3704 - accuracy: 0.8840 - val_loss: 0.3444 - val_accuracy: 0.8989\n",
            "Epoch 42/100\n",
            "24/24 [==============================] - 2s 101ms/step - loss: 0.2555 - accuracy: 0.9111 - val_loss: 0.2811 - val_accuracy: 0.9163\n",
            "Epoch 43/100\n",
            "24/24 [==============================] - 3s 135ms/step - loss: 0.2101 - accuracy: 0.9369 - val_loss: 0.2383 - val_accuracy: 0.9258\n",
            "Epoch 44/100\n",
            "24/24 [==============================] - 2s 85ms/step - loss: 0.2553 - accuracy: 0.9213 - val_loss: 0.2555 - val_accuracy: 0.9147\n",
            "Epoch 45/100\n",
            "24/24 [==============================] - 2s 89ms/step - loss: 0.1964 - accuracy: 0.9335 - val_loss: 0.2167 - val_accuracy: 0.9415\n",
            "Epoch 46/100\n",
            "24/24 [==============================] - 2s 88ms/step - loss: 0.1379 - accuracy: 0.9545 - val_loss: 0.1957 - val_accuracy: 0.9479\n",
            "Epoch 47/100\n",
            "24/24 [==============================] - 3s 117ms/step - loss: 0.1757 - accuracy: 0.9444 - val_loss: 0.2131 - val_accuracy: 0.9352\n",
            "Epoch 48/100\n",
            "24/24 [==============================] - 3s 117ms/step - loss: 0.1573 - accuracy: 0.9464 - val_loss: 0.1858 - val_accuracy: 0.9431\n",
            "Epoch 49/100\n",
            "24/24 [==============================] - 2s 87ms/step - loss: 0.1767 - accuracy: 0.9457 - val_loss: 0.1712 - val_accuracy: 0.9510\n",
            "Epoch 50/100\n",
            "24/24 [==============================] - 2s 86ms/step - loss: 0.1141 - accuracy: 0.9668 - val_loss: 0.1869 - val_accuracy: 0.9542\n",
            "Epoch 51/100\n",
            "24/24 [==============================] - 2s 87ms/step - loss: 0.1617 - accuracy: 0.9464 - val_loss: 0.1891 - val_accuracy: 0.9431\n",
            "Epoch 52/100\n",
            "24/24 [==============================] - 2s 87ms/step - loss: 0.1442 - accuracy: 0.9579 - val_loss: 0.1625 - val_accuracy: 0.9589\n",
            "Epoch 53/100\n",
            "24/24 [==============================] - 3s 147ms/step - loss: 0.1236 - accuracy: 0.9668 - val_loss: 0.1543 - val_accuracy: 0.9621\n",
            "Epoch 54/100\n",
            "24/24 [==============================] - 2s 87ms/step - loss: 0.1065 - accuracy: 0.9661 - val_loss: 0.1695 - val_accuracy: 0.9558\n",
            "Epoch 55/100\n",
            "24/24 [==============================] - 2s 90ms/step - loss: 0.1037 - accuracy: 0.9654 - val_loss: 0.1938 - val_accuracy: 0.9463\n",
            "Epoch 56/100\n",
            "24/24 [==============================] - 2s 84ms/step - loss: 0.1692 - accuracy: 0.9505 - val_loss: 0.2266 - val_accuracy: 0.9384\n",
            "Epoch 57/100\n",
            "24/24 [==============================] - 5s 230ms/step - loss: 0.1265 - accuracy: 0.9566 - val_loss: 0.1981 - val_accuracy: 0.9526\n",
            "Epoch 58/100\n",
            "24/24 [==============================] - 2s 85ms/step - loss: 0.1053 - accuracy: 0.9634 - val_loss: 0.1493 - val_accuracy: 0.9605\n",
            "Epoch 59/100\n",
            "24/24 [==============================] - 4s 175ms/step - loss: 0.1238 - accuracy: 0.9647 - val_loss: 0.1384 - val_accuracy: 0.9573\n",
            "Epoch 60/100\n",
            "24/24 [==============================] - 4s 160ms/step - loss: 0.1229 - accuracy: 0.9586 - val_loss: 0.3748 - val_accuracy: 0.8926\n",
            "Epoch 61/100\n",
            "24/24 [==============================] - 2s 91ms/step - loss: 0.1842 - accuracy: 0.9389 - val_loss: 0.1745 - val_accuracy: 0.9415\n",
            "Epoch 62/100\n",
            "24/24 [==============================] - 2s 84ms/step - loss: 0.1337 - accuracy: 0.9661 - val_loss: 0.1829 - val_accuracy: 0.9400\n",
            "Epoch 63/100\n",
            "24/24 [==============================] - 2s 93ms/step - loss: 0.1514 - accuracy: 0.9505 - val_loss: 0.1906 - val_accuracy: 0.9479\n",
            "Epoch 64/100\n",
            "24/24 [==============================] - 2s 86ms/step - loss: 0.1666 - accuracy: 0.9505 - val_loss: 0.2026 - val_accuracy: 0.9447\n",
            "Epoch 65/100\n",
            "24/24 [==============================] - 3s 119ms/step - loss: 0.1597 - accuracy: 0.9512 - val_loss: 0.1869 - val_accuracy: 0.9415\n",
            "Epoch 66/100\n",
            "24/24 [==============================] - 2s 92ms/step - loss: 0.1192 - accuracy: 0.9654 - val_loss: 0.1338 - val_accuracy: 0.9637\n",
            "Epoch 67/100\n",
            "24/24 [==============================] - 2s 90ms/step - loss: 0.0870 - accuracy: 0.9742 - val_loss: 0.1193 - val_accuracy: 0.9652\n",
            "Epoch 68/100\n",
            "24/24 [==============================] - 2s 89ms/step - loss: 0.0831 - accuracy: 0.9749 - val_loss: 0.1970 - val_accuracy: 0.9494\n",
            "Epoch 69/100\n",
            "24/24 [==============================] - 2s 89ms/step - loss: 0.1037 - accuracy: 0.9613 - val_loss: 0.1633 - val_accuracy: 0.9479\n",
            "Epoch 70/100\n",
            "24/24 [==============================] - 3s 144ms/step - loss: 0.1053 - accuracy: 0.9695 - val_loss: 0.1420 - val_accuracy: 0.9637\n",
            "Epoch 71/100\n",
            "24/24 [==============================] - 3s 107ms/step - loss: 0.1456 - accuracy: 0.9539 - val_loss: 0.2699 - val_accuracy: 0.9305\n",
            "Epoch 72/100\n",
            "24/24 [==============================] - 2s 97ms/step - loss: 0.1788 - accuracy: 0.9457 - val_loss: 0.2046 - val_accuracy: 0.9368\n",
            "Epoch 73/100\n",
            "24/24 [==============================] - 2s 89ms/step - loss: 0.1353 - accuracy: 0.9600 - val_loss: 0.1820 - val_accuracy: 0.9415\n",
            "Epoch 74/100\n",
            "24/24 [==============================] - 3s 121ms/step - loss: 0.1335 - accuracy: 0.9593 - val_loss: 0.2255 - val_accuracy: 0.9463\n",
            "Epoch 75/100\n",
            "24/24 [==============================] - 2s 91ms/step - loss: 0.1178 - accuracy: 0.9634 - val_loss: 0.1937 - val_accuracy: 0.9637\n",
            "Epoch 76/100\n",
            "24/24 [==============================] - 2s 92ms/step - loss: 0.0826 - accuracy: 0.9708 - val_loss: 0.1496 - val_accuracy: 0.9637\n",
            "Epoch 77/100\n",
            "24/24 [==============================] - 2s 91ms/step - loss: 0.0719 - accuracy: 0.9742 - val_loss: 0.1644 - val_accuracy: 0.9668\n",
            "Epoch 78/100\n",
            "24/24 [==============================] - 2s 92ms/step - loss: 0.0951 - accuracy: 0.9735 - val_loss: 0.1766 - val_accuracy: 0.9542\n",
            "Epoch 79/100\n",
            "24/24 [==============================] - 3s 138ms/step - loss: 0.0714 - accuracy: 0.9763 - val_loss: 0.1736 - val_accuracy: 0.9668\n",
            "Epoch 80/100\n",
            "24/24 [==============================] - 3s 105ms/step - loss: 0.1115 - accuracy: 0.9620 - val_loss: 0.1378 - val_accuracy: 0.9668\n",
            "Epoch 81/100\n",
            "24/24 [==============================] - 2s 91ms/step - loss: 0.1531 - accuracy: 0.9613 - val_loss: 0.2240 - val_accuracy: 0.9510\n",
            "Epoch 82/100\n",
            "24/24 [==============================] - 2s 92ms/step - loss: 0.1170 - accuracy: 0.9681 - val_loss: 0.1453 - val_accuracy: 0.9637\n",
            "Epoch 83/100\n",
            "24/24 [==============================] - 2s 93ms/step - loss: 0.0793 - accuracy: 0.9749 - val_loss: 0.1503 - val_accuracy: 0.9684\n",
            "Epoch 84/100\n",
            "24/24 [==============================] - 3s 122ms/step - loss: 0.1513 - accuracy: 0.9512 - val_loss: 0.1338 - val_accuracy: 0.9605\n",
            "Epoch 85/100\n",
            "24/24 [==============================] - 2s 91ms/step - loss: 0.0840 - accuracy: 0.9735 - val_loss: 0.1618 - val_accuracy: 0.9621\n",
            "Epoch 86/100\n",
            "24/24 [==============================] - 2s 88ms/step - loss: 0.0960 - accuracy: 0.9701 - val_loss: 0.1260 - val_accuracy: 0.9668\n",
            "Epoch 87/100\n",
            "24/24 [==============================] - 2s 90ms/step - loss: 0.0871 - accuracy: 0.9742 - val_loss: 0.1386 - val_accuracy: 0.9668\n",
            "Epoch 88/100\n",
            "24/24 [==============================] - 2s 93ms/step - loss: 0.1759 - accuracy: 0.9512 - val_loss: 0.2467 - val_accuracy: 0.9368\n",
            "Epoch 89/100\n",
            "24/24 [==============================] - 3s 134ms/step - loss: 0.1654 - accuracy: 0.9518 - val_loss: 0.1424 - val_accuracy: 0.9652\n",
            "Epoch 90/100\n",
            "24/24 [==============================] - 2s 97ms/step - loss: 0.1006 - accuracy: 0.9681 - val_loss: 0.1180 - val_accuracy: 0.9716\n",
            "Epoch 91/100\n",
            "24/24 [==============================] - 2s 90ms/step - loss: 0.0680 - accuracy: 0.9790 - val_loss: 0.0990 - val_accuracy: 0.9779\n",
            "Epoch 92/100\n",
            "24/24 [==============================] - 2s 88ms/step - loss: 0.0437 - accuracy: 0.9878 - val_loss: 0.1313 - val_accuracy: 0.9795\n",
            "Epoch 93/100\n",
            "24/24 [==============================] - 2s 88ms/step - loss: 0.0545 - accuracy: 0.9837 - val_loss: 0.0873 - val_accuracy: 0.9779\n",
            "Epoch 94/100\n",
            "24/24 [==============================] - 3s 119ms/step - loss: 0.0708 - accuracy: 0.9796 - val_loss: 0.1275 - val_accuracy: 0.9716\n",
            "Epoch 95/100\n",
            "24/24 [==============================] - 3s 126ms/step - loss: 0.0791 - accuracy: 0.9763 - val_loss: 0.1382 - val_accuracy: 0.9589\n",
            "Epoch 96/100\n",
            "24/24 [==============================] - 2s 91ms/step - loss: 0.0682 - accuracy: 0.9769 - val_loss: 0.1195 - val_accuracy: 0.9684\n",
            "Epoch 97/100\n",
            "24/24 [==============================] - 2s 91ms/step - loss: 0.0744 - accuracy: 0.9817 - val_loss: 0.1751 - val_accuracy: 0.9637\n",
            "Epoch 98/100\n",
            "24/24 [==============================] - 2s 90ms/step - loss: 0.0781 - accuracy: 0.9749 - val_loss: 0.1378 - val_accuracy: 0.9637\n",
            "Epoch 99/100\n",
            "24/24 [==============================] - 3s 133ms/step - loss: 0.0676 - accuracy: 0.9742 - val_loss: 0.1472 - val_accuracy: 0.9637\n",
            "Epoch 100/100\n",
            "24/24 [==============================] - 3s 112ms/step - loss: 0.1283 - accuracy: 0.9654 - val_loss: 0.1866 - val_accuracy: 0.9494\n"
          ]
        }
      ],
      "source": [
        "train = model.fit_generator(aug.flow(x_train, y_train, batch_size=64),\n",
        "                               epochs=100,\n",
        "                               validation_data=aug.flow(x_test,y_test,\n",
        "                               batch_size=len(x_test)))"
      ]
    },
    {
      "cell_type": "code",
      "source": [
        "test_loss, test_acc = model.evaluate(x_test, y_test)\n",
        "print(\"Accuracy:\", test_acc)\n",
        "print('Loss:', test_loss)\n",
        "model.save('/content/drive/MyDrive/Face Recognition/Face.h5')"
      ],
      "metadata": {
        "colab": {
          "base_uri": "https://localhost:8080/"
        },
        "id": "J8vtWLIv6riA",
        "outputId": "b25f0947-5d16-44fd-93c4-ad585f4a523e"
      },
      "execution_count": null,
      "outputs": [
        {
          "output_type": "stream",
          "name": "stdout",
          "text": [
            "20/20 [==============================] - 0s 14ms/step - loss: 45.4153 - accuracy: 0.8720\n",
            "Accuracy: 0.8720378875732422\n",
            "Loss: 45.415279388427734\n"
          ]
        }
      ]
    },
    {
      "cell_type": "code",
      "execution_count": null,
      "metadata": {
        "colab": {
          "base_uri": "https://localhost:8080/",
          "height": 430
        },
        "id": "qhreQ8Py-avn",
        "outputId": "3d7e072d-ba2e-478d-f1e5-8d8ab890e5a4"
      },
      "outputs": [
        {
          "output_type": "display_data",
          "data": {
            "text/plain": [
              "<Figure size 640x480 with 1 Axes>"
            ],
            "image/png": "[encoded data removed]"
          },
          "metadata": {}
        }
      ],
      "source": [
        "from matplotlib import pyplot as plt\n",
        "accuracy= train.history['accuracy']\n",
        "loss= train.history['loss']\n",
        "epochs= range(len(accuracy))\n",
        "plt.plot(epochs, accuracy, 'bo', label= 'Training accuracy')\n",
        "plt.plot(epochs, loss, 'r', label= 'Training loss')\n",
        "plt.show()\n"
      ]
    },
    {
      "cell_type": "code",
      "execution_count": null,
      "metadata": {
        "id": "mrijeHlqQ7L_"
      },
      "outputs": [],
      "source": [
        "from keras.models import load_model\n",
        "model = load_model('/content/drive/MyDrive/Face Recognition/Face.h5')"
      ]
    },
    {
      "cell_type": "code",
      "execution_count": null,
      "metadata": {
        "colab": {
          "base_uri": "https://localhost:8080/",
          "height": 449
        },
        "id": "ccKq9bD7RAkG",
        "outputId": "ae484501-eb3c-462d-b755-c696459db9f4"
      },
      "outputs": [
        {
          "output_type": "execute_result",
          "data": {
            "text/plain": [
              "<matplotlib.image.AxesImage at 0x7fe84869bb50>"
            ]
          },
          "metadata": {},
          "execution_count": 23
        },
        {
          "output_type": "display_data",
          "data": {
            "text/plain": [
              "<Figure size 640x480 with 1 Axes>"
            ],
            "image/png": "[encoded data removed]"
          },
          "metadata": {}
        }
      ],
      "source": [
        "from matplotlib import pyplot as plt\n",
        "import matplotlib.image as mpimg\n",
        "from keras.utils import load_img\n",
        "from keras.utils import img_to_array\n",
        "from pylab import *\n",
        "import numpy as np\n",
        "\n",
        "from PIL import Image\n",
        "\n",
        "#Hiển thị ảnh tải lên\n",
        "img_original = Image.open('/content/drive/MyDrive/Face Recognition/Checking data/minh.png')\n",
        "plt.imshow(img_original)\n"
      ]
    },
    {
      "cell_type": "code",
      "execution_count": null,
      "metadata": {
        "id": "VNYUeIr9T4hK",
        "colab": {
          "base_uri": "https://localhost:8080/",
          "height": 467
        },
        "outputId": "d14c493c-754a-49d7-e75e-87d00fbfc51c"
      },
      "outputs": [
        {
          "output_type": "stream",
          "name": "stdout",
          "text": [
            "1/1 [==============================] - 0s 21ms/step\n",
            "[15]\n"
          ]
        },
        {
          "output_type": "display_data",
          "data": {
            "text/plain": [
              "<Figure size 640x480 with 1 Axes>"
            ],
            "image/png": "[encoded data removed]"
          },
          "metadata": {}
        }
      ],
      "source": [
        "url = '/content/drive/MyDrive/Face Recognition/Checking data/minh.png'\n",
        "img = load_img(url, target_size= (40,40,3))\n",
        "plt.imshow(img)\n",
        "img = img_to_array(img)\n",
        "img = img.reshape(1,40,40,3)\n",
        "img = img.astype('float32')/255\n",
        "\n",
        "#Dự đoán ảnh đã tải lên\n",
        "import numpy as np\n",
        "max = np.argmax(model.predict(img), axis = 1)\n",
        "print(max)"
      ]
    }
  ],
  "metadata": {
    "accelerator": "GPU",
    "colab": {
      "provenance": [],
      "gpuType": "T4",
      "include_colab_link": true
    },
    "gpuClass": "standard",
    "kernelspec": {
      "display_name": "Python 3",
      "name": "python3"
    },
    "language_info": {
      "name": "python"
    }
  },
  "nbformat": 4,
  "nbformat_minor": 0
}
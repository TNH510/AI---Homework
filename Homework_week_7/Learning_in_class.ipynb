{
  "nbformat": 4,
  "nbformat_minor": 0,
  "metadata": {
    "colab": {
      "provenance": [],
      "authorship_tag": "ABX9TyPXAdXqDQjCt3edr+MN9rv5",
      "include_colab_link": true
    },
    "kernelspec": {
      "name": "python3",
      "display_name": "Python 3"
    },
    "language_info": {
      "name": "python"
    }
  },
  "cells": [
    {
      "cell_type": "markdown",
      "metadata": {
        "id": "view-in-github",
        "colab_type": "text"
      },
      "source": [
        "<a href=\"https://colab.research.google.com/github/TNH510/Artificial-Intelligence/blob/main/Learning_in_class.ipynb\" target=\"_parent\"><img src=\"https://colab.research.google.com/assets/colab-badge.svg\" alt=\"Open In Colab\"/></a>"
      ]
    },
    {
      "cell_type": "code",
      "source": [
        "import pandas as pd"
      ],
      "metadata": {
        "id": "0gPyHDrgi-sn"
      },
      "execution_count": null,
      "outputs": []
    },
    {
      "cell_type": "code",
      "source": [
        "url = 'mtcars.csv'\n",
        "data = pd.read_csv(url)\n"
      ],
      "metadata": {
        "id": "h-6lcWSGjTFn"
      },
      "execution_count": null,
      "outputs": []
    },
    {
      "cell_type": "code",
      "source": [
        "import matplotlib.pyplot as plt\n",
        "#mpg so dam di chuyen trong 1 galong\n",
        "#disp the tich buong dot\n",
        "#hp la ma luc\n",
        "#wt la khoi luong\n",
        "data.hist() #So lan lap lai cua data\n",
        "plt.show()\n"
      ],
      "metadata": {
        "colab": {
          "base_uri": "https://localhost:8080/",
          "height": 281
        },
        "id": "d4qOen-6jeW1",
        "outputId": "9c5c0fc6-ad8a-4125-de49-867b4ea56729"
      },
      "execution_count": null,
      "outputs": [
        {
          "output_type": "display_data",
          "data": {
            "text/plain": [
              "<Figure size 432x288 with 4 Axes>"
            ],
            "image/png": "[encoded data removed]"
          },
          "metadata": {
            "needs_background": "light"
          }
        }
      ]
    },
    {
      "cell_type": "code",
      "source": [
        "#Moi lien quan giua cac dai luong\n",
        "correlation = data.corr()\n",
        "print(correlation)"
      ],
      "metadata": {
        "colab": {
          "base_uri": "https://localhost:8080/"
        },
        "id": "f_pS-I11j3vF",
        "outputId": "99eba8fd-c32e-4bc9-c037-3514b39edddd"
      },
      "execution_count": null,
      "outputs": [
        {
          "output_type": "stream",
          "name": "stdout",
          "text": [
            "           mpg      disp        hp        wt\n",
            "mpg   1.000000 -0.847551 -0.776168 -0.867659\n",
            "disp -0.847551  1.000000  0.790949  0.887980\n",
            "hp   -0.776168  0.790949  1.000000  0.658748\n",
            "wt   -0.867659  0.887980  0.658748  1.000000\n"
          ]
        }
      ]
    },
    {
      "cell_type": "code",
      "source": [
        "import seaborn as sns\n",
        "sns.heatmap(correlation, annot = True)\n",
        "#Gia tri tuyet doi cang lon, moi lien quan cang lon\n",
        "#Dau tru la nghich bien, dau cong la dong bien"
      ],
      "metadata": {
        "colab": {
          "base_uri": "https://localhost:8080/",
          "height": 287
        },
        "id": "Z5evZeCCkQbE",
        "outputId": "0b2d1a81-b51c-4dfd-d875-35b984cf3512"
      },
      "execution_count": null,
      "outputs": [
        {
          "output_type": "execute_result",
          "data": {
            "text/plain": [
              "<AxesSubplot:>"
            ]
          },
          "metadata": {},
          "execution_count": 27
        },
        {
          "output_type": "display_data",
          "data": {
            "text/plain": [
              "<Figure size 432x288 with 2 Axes>"
            ],
            "image/png": "[encoded data removed]"
          },
          "metadata": {
            "needs_background": "light"
          }
        }
      ]
    },
    {
      "cell_type": "code",
      "source": [
        "#---------------------------------------------"
      ],
      "metadata": {
        "id": "peKr6KHnkh9C"
      },
      "execution_count": null,
      "outputs": []
    },
    {
      "cell_type": "code",
      "source": [
        "data.plot(kind= 'scatter', x = 'wt', y = 'mpg', figsize = (6 , 6), color = 'blue')"
      ],
      "metadata": {
        "colab": {
          "base_uri": "https://localhost:8080/",
          "height": 409
        },
        "id": "83uqhBfGn9B_",
        "outputId": "6acac861-458d-431e-8317-d5730a15de8f"
      },
      "execution_count": null,
      "outputs": [
        {
          "output_type": "execute_result",
          "data": {
            "text/plain": [
              "<AxesSubplot:xlabel='wt', ylabel='mpg'>"
            ]
          },
          "metadata": {},
          "execution_count": 31
        },
        {
          "output_type": "display_data",
          "data": {
            "text/plain": [
              "<Figure size 432x432 with 1 Axes>"
            ],
            "image/png": "[encoded data removed]"
          },
          "metadata": {
            "needs_background": "light"
          }
        }
      ]
    },
    {
      "cell_type": "code",
      "source": [
        "from sklearn import linear_model\n",
        "model = linear_model.LinearRegression()\n",
        "model.fit(X = pd.DataFrame(data['wt']), y= data['mpg'])\n",
        "print(model.intercept_)\n",
        "print(model.coef_)\n",
        "#y = coef*x + intercept"
      ],
      "metadata": {
        "colab": {
          "base_uri": "https://localhost:8080/"
        },
        "id": "ZxQq4oTZoNng",
        "outputId": "8952737c-6236-4c2d-e8c7-f46f12493d74"
      },
      "execution_count": null,
      "outputs": [
        {
          "output_type": "stream",
          "name": "stdout",
          "text": [
            "37.28512616734204\n",
            "[-5.34447157]\n"
          ]
        }
      ]
    },
    {
      "cell_type": "code",
      "source": [
        "#Do chinh xac\n",
        "model.score(X = pd.DataFrame(data['wt']), y= data['mpg'])"
      ],
      "metadata": {
        "colab": {
          "base_uri": "https://localhost:8080/"
        },
        "id": "55rS6HxnpRst",
        "outputId": "8a4ab873-200c-471f-9e46-35cbcc7c7cd8"
      },
      "execution_count": null,
      "outputs": [
        {
          "output_type": "execute_result",
          "data": {
            "text/plain": [
              "0.7528327936582646"
            ]
          },
          "metadata": {},
          "execution_count": 50
        }
      ]
    },
    {
      "cell_type": "code",
      "source": [
        "data.plot(kind= 'scatter', x = 'wt', y= 'mpg', figsize = (5,5), color = 'red', xlim = (0,7))\n",
        "y_pred = model.predict(X = pd.DataFrame(data['wt']))\n",
        "plt.plot(data['wt'], y_pred, color = 'blue')"
      ],
      "metadata": {
        "colab": {
          "base_uri": "https://localhost:8080/",
          "height": 354
        },
        "id": "A24SSI7krAA9",
        "outputId": "461aee0f-bf53-4ecd-c56b-0728a58896a4"
      },
      "execution_count": null,
      "outputs": [
        {
          "output_type": "execute_result",
          "data": {
            "text/plain": [
              "[<matplotlib.lines.Line2D at 0x7fcced295790>]"
            ]
          },
          "metadata": {},
          "execution_count": 54
        },
        {
          "output_type": "display_data",
          "data": {
            "text/plain": [
              "<Figure size 360x360 with 1 Axes>"
            ],
            "image/png": "[encoded data removed]"
          },
          "metadata": {
            "needs_background": "light"
          }
        }
      ]
    },
    {
      "cell_type": "code",
      "source": [
        "#Mo hinh bac 2\n",
        "model = linear_model.LinearRegression()\n",
        "X = pd.DataFrame([data['wt'], data['wt']**2]).T\n",
        "model.fit(X, y= data['mpg'])\n",
        "print('Intercept cua mo hinh:', model.intercept_)\n",
        "print('Coefficient cua mo hinh', model.coef_)\n",
        "print('Do chinh xac cua mo hinh', model.score(X, y = data['mpg']))"
      ],
      "metadata": {
        "colab": {
          "base_uri": "https://localhost:8080/"
        },
        "id": "PqcLlDZ6riJT",
        "outputId": "0a9b9e4c-be54-4889-bf5d-6b807de1a97f"
      },
      "execution_count": null,
      "outputs": [
        {
          "output_type": "stream",
          "name": "stdout",
          "text": [
            "Intercept cua mo hinh: 49.93081094945181\n",
            "Coefficient cua mo hinh [-13.38033708   1.17108689]\n",
            "Do chinh xac cua mo hinh 0.8190613581384094\n"
          ]
        }
      ]
    },
    {
      "cell_type": "code",
      "source": [
        "#Ve do thi mo hinh bac 2\n",
        "import numpy as np\n",
        "range = np.arange(1.5,5.5,0.1)\n",
        "data.plot(kind= 'scatter', x = 'wt', y= 'mpg', figsize = (5,5), color = 'red', xlim = (0,7))\n",
        "predictor = pd.DataFrame([range, range**2]).T\n",
        "y_pred = model.predict(X = predictor)\n",
        "plt.plot(range, y_pred, color = 'green')\n",
        "print('Do chinh xac cua model', model.score(X, y = data['mpg']))"
      ],
      "metadata": {
        "colab": {
          "base_uri": "https://localhost:8080/",
          "height": 392
        },
        "id": "9HedNMdrszgS",
        "outputId": "7217ceb2-175e-42a4-a420-c16836fc9d6d"
      },
      "execution_count": null,
      "outputs": [
        {
          "output_type": "stream",
          "name": "stdout",
          "text": [
            "Do chinh xac cua model 0.8190613581384094\n"
          ]
        },
        {
          "output_type": "stream",
          "name": "stderr",
          "text": [
            "/usr/local/lib/python3.9/dist-packages/sklearn/base.py:420: UserWarning: X does not have valid feature names, but LinearRegression was fitted with feature names\n",
            "  warnings.warn(\n"
          ]
        },
        {
          "output_type": "display_data",
          "data": {
            "text/plain": [
              "<Figure size 360x360 with 1 Axes>"
            ],
            "image/png": "[encoded data removed]"
          },
          "metadata": {
            "needs_background": "light"
          }
        }
      ]
    },
    {
      "cell_type": "code",
      "source": [
        "#Mo hinh bac 3\n",
        "model = linear_model.LinearRegression()\n",
        "X = pd.DataFrame([data['wt'], data['wt']**2, data['wt']**3]).T\n",
        "model.fit(X, y= data['mpg'])\n",
        "print('Intercept cua mo hinh:', model.intercept_)\n",
        "print('Coefficient cua mo hinh', model.coef_)\n",
        "print('Do chinh xac cua mo hinh', model.score(X, y = data['mpg']))\n"
      ],
      "metadata": {
        "colab": {
          "base_uri": "https://localhost:8080/"
        },
        "id": "YpAj99KQufok",
        "outputId": "d607bf77-0301-473a-cd29-c898f3a70c17"
      },
      "execution_count": null,
      "outputs": [
        {
          "output_type": "stream",
          "name": "stdout",
          "text": [
            "Intercept cua mo hinh: 48.40369622795221\n",
            "Coefficient cua mo hinh [-11.82597602   0.68937919   0.04593618]\n",
            "Do chinh xac cua mo hinh 0.8191284628478992\n"
          ]
        }
      ]
    },
    {
      "cell_type": "code",
      "source": [
        "#Ve do thi mo hinh bac 3\n",
        "import numpy as np\n",
        "range = np.arange(1.5,5.5,0.1)\n",
        "data.plot(kind= 'scatter', x = 'wt', y= 'mpg', figsize = (5,5), color = 'red', xlim = (0,7))\n",
        "predictor = pd.DataFrame([range, range**2, range**3]).T\n",
        "y_pred = model.predict(X = predictor)\n",
        "plt.plot(range, y_pred, color = 'green')\n",
        "print('Do chinh xac cua model', model.score(X, y = data['mpg']))"
      ],
      "metadata": {
        "colab": {
          "base_uri": "https://localhost:8080/",
          "height": 392
        },
        "id": "jzRumaHAv7xS",
        "outputId": "8625c58b-2c3c-4d7b-bcad-cdef67ed0805"
      },
      "execution_count": null,
      "outputs": [
        {
          "output_type": "stream",
          "name": "stdout",
          "text": [
            "Do chinh xac cua model 0.8191284628478992\n"
          ]
        },
        {
          "output_type": "stream",
          "name": "stderr",
          "text": [
            "/usr/local/lib/python3.9/dist-packages/sklearn/base.py:420: UserWarning: X does not have valid feature names, but LinearRegression was fitted with feature names\n",
            "  warnings.warn(\n"
          ]
        },
        {
          "output_type": "display_data",
          "data": {
            "text/plain": [
              "<Figure size 360x360 with 1 Axes>"
            ],
            "image/png": "[encoded data removed]"
          },
          "metadata": {
            "needs_background": "light"
          }
        }
      ]
    },
    {
      "cell_type": "code",
      "source": [
        "#Mo hinh bac 4\n",
        "model = linear_model.LinearRegression()\n",
        "X = pd.DataFrame([data['wt'], data['wt']**2, data['wt']**3, data['wt']**4]).T\n",
        "model.fit(X, y= data['mpg'])\n",
        "print('Intercept cua mo hinh:', model.intercept_)\n",
        "print('Coefficient cua mo hinh', model.coef_)\n",
        "print('Do chinh xac cua mo hinh', model.score(X, y = data['mpg']))\n",
        "#Ve do thi mo hinh bac 4\n",
        "import numpy as np\n",
        "range = np.arange(1.5,5.5,0.1)\n",
        "data.plot(kind= 'scatter', x = 'wt', y= 'mpg', figsize = (5,5), color = 'red', xlim = (0,7))\n",
        "predictor = pd.DataFrame([range, range**2, range**3, range**4]).T\n",
        "y_pred = model.predict(X = predictor)\n",
        "plt.plot(range, y_pred, color = 'green')\n",
        "print('Do chinh xac cua model', model.score(X, y = data['mpg']))"
      ],
      "metadata": {
        "colab": {
          "base_uri": "https://localhost:8080/",
          "height": 446
        },
        "id": "QpFujVFZwAKy",
        "outputId": "c9297a48-d512-46db-dc18-a9de33ee0ef8"
      },
      "execution_count": null,
      "outputs": [
        {
          "output_type": "stream",
          "name": "stdout",
          "text": [
            "Intercept cua mo hinh: 14.455833054796258\n",
            "Coefficient cua mo hinh [ 36.61945631 -23.70175729   5.20042113  -0.38627878]\n",
            "Do chinh xac cua mo hinh 0.8219709873435187\n",
            "Do chinh xac cua model 0.8219709873435187\n"
          ]
        },
        {
          "output_type": "stream",
          "name": "stderr",
          "text": [
            "/usr/local/lib/python3.9/dist-packages/sklearn/base.py:420: UserWarning: X does not have valid feature names, but LinearRegression was fitted with feature names\n",
            "  warnings.warn(\n"
          ]
        },
        {
          "output_type": "display_data",
          "data": {
            "text/plain": [
              "<Figure size 360x360 with 1 Axes>"
            ],
            "image/png": "[encoded data removed]"
          },
          "metadata": {
            "needs_background": "light"
          }
        }
      ]
    },
    {
      "cell_type": "code",
      "source": [
        "#Mo hinh bac 5\n",
        "model = linear_model.LinearRegression()\n",
        "X = pd.DataFrame([data['wt'], data['wt']**2, data['wt']**3, data['wt']**4, data['wt']**5]).T\n",
        "model.fit(X, y= data['mpg'])\n",
        "print('Intercept cua mo hinh:', model.intercept_)\n",
        "print('Coefficient cua mo hinh', model.coef_)\n",
        "print('Do chinh xac cua mo hinh', model.score(X, y = data['mpg']))\n",
        "#Ve do thi mo hinh bac 5\n",
        "import numpy as np\n",
        "range = np.arange(1.5,5.5,0.1)\n",
        "data.plot(kind= 'scatter', x = 'wt', y= 'mpg', figsize = (5,5), color = 'red', xlim = (0,7))\n",
        "predictor = pd.DataFrame([range, range**2, range**3, range**4, range**5]).T\n",
        "y_pred = model.predict(X = predictor)\n",
        "plt.plot(range, y_pred, color = 'green')\n",
        "print('Do chinh xac cua model', model.score(X, y = data['mpg']))"
      ],
      "metadata": {
        "colab": {
          "base_uri": "https://localhost:8080/",
          "height": 446
        },
        "id": "sO5lMoX6w74d",
        "outputId": "4bf87011-9f31-4ba2-c186-5c2c451a83b3"
      },
      "execution_count": null,
      "outputs": [
        {
          "output_type": "stream",
          "name": "stdout",
          "text": [
            "Intercept cua mo hinh: -87.71816314301019\n",
            "Coefficient cua mo hinh [ 218.88967608 -147.77842682   45.60934841   -6.70138798    0.37968337]\n",
            "Do chinh xac cua mo hinh 0.8251088272653132\n",
            "Do chinh xac cua model 0.8251088272653132\n"
          ]
        },
        {
          "output_type": "stream",
          "name": "stderr",
          "text": [
            "/usr/local/lib/python3.9/dist-packages/sklearn/base.py:420: UserWarning: X does not have valid feature names, but LinearRegression was fitted with feature names\n",
            "  warnings.warn(\n"
          ]
        },
        {
          "output_type": "display_data",
          "data": {
            "text/plain": [
              "<Figure size 360x360 with 1 Axes>"
            ],
            "image/png": "[encoded data removed]"
          },
          "metadata": {
            "needs_background": "light"
          }
        }
      ]
    },
    {
      "cell_type": "code",
      "source": [
        "#Mo hinh bac 10\n",
        "model = linear_model.LinearRegression()\n",
        "X = pd.DataFrame([data['wt'], data['wt']**2, data['wt']**3, data['wt']**4, data['wt']**5\n",
        "                  , data['wt']**6, data['wt']**7, data['wt']**8, data['wt']**9, data['wt']**10]).T\n",
        "model.fit(X, y= data['mpg'])\n",
        "print('Intercept cua mo hinh:', model.intercept_)\n",
        "print('Coefficient cua mo hinh', model.coef_)\n",
        "print('Do chinh xac cua mo hinh', model.score(X, y = data['mpg']))\n",
        "#Ve do thi mo hinh bac 10\n",
        "import numpy as np\n",
        "range = np.arange(1.5,5.5,0.1)\n",
        "data.plot(kind= 'scatter', x = 'wt', y= 'mpg', figsize = (5,5), color = 'red', xlim = (0,7))\n",
        "predictor = pd.DataFrame([range, range**2, range**3, range**4, range**5, range**6, range**7, range**8, range**9, range**10]).T\n",
        "y_pred = model.predict(X = predictor)\n",
        "plt.plot(range, y_pred, color = 'green')\n",
        "print('Do chinh xac cua model', model.score(X, y = data['mpg']))"
      ],
      "metadata": {
        "colab": {
          "base_uri": "https://localhost:8080/",
          "height": 480
        },
        "id": "ipHUDfT7xdMV",
        "outputId": "eb67d44d-37c5-4aca-b68c-e0c3d3bbf93e"
      },
      "execution_count": null,
      "outputs": [
        {
          "output_type": "stream",
          "name": "stdout",
          "text": [
            "Intercept cua mo hinh: -14921.11995188375\n",
            "Coefficient cua mo hinh [ 6.45813558e+04 -1.20086131e+05  1.26931928e+05 -8.46598454e+04\n",
            "  3.73155199e+04 -1.10334755e+04  2.16590404e+03 -2.70730544e+02\n",
            "  1.94974162e+01 -6.15515436e-01]\n",
            "Do chinh xac cua mo hinh 0.8702106571479111\n",
            "Do chinh xac cua model 0.8702106571479111\n"
          ]
        },
        {
          "output_type": "stream",
          "name": "stderr",
          "text": [
            "/usr/local/lib/python3.9/dist-packages/sklearn/base.py:420: UserWarning: X does not have valid feature names, but LinearRegression was fitted with feature names\n",
            "  warnings.warn(\n"
          ]
        },
        {
          "output_type": "display_data",
          "data": {
            "text/plain": [
              "<Figure size 360x360 with 1 Axes>"
            ],
            "image/png": "[encoded data removed]"
          },
          "metadata": {
            "needs_background": "light"
          }
        }
      ]
    },
    {
      "cell_type": "code",
      "source": [
        "#Mo hinh bac 20\n",
        "model = linear_model.LinearRegression()\n",
        "X = pd.DataFrame([data['wt'], data['wt']**2, data['wt']**3, data['wt']**4, data['wt']**5\n",
        "                  , data['wt']**6, data['wt']**7, data['wt']**8, data['wt']**9, data['wt']**10\n",
        "                  ,data['wt']**11, data['wt']**12, data['wt']**13, data['wt']**14, data['wt']**15\n",
        "                  , data['wt']**16, data['wt']**17, data['wt']**18, data['wt']**19, data['wt']**20]).T\n",
        "model.fit(X, y= data['mpg'])\n",
        "print('Intercept cua mo hinh:', model.intercept_)\n",
        "print('Coefficient cua mo hinh', model.coef_)\n",
        "print('Do chinh xac cua mo hinh', model.score(X, y = data['mpg']))\n",
        "#Ve do thi mo hinh bac 20\n",
        "import numpy as np\n",
        "range = np.arange(1.5,5.5,0.1)\n",
        "data.plot(kind= 'scatter', x = 'wt', y= 'mpg', figsize = (5,5), color = 'red', xlim = (0,7))\n",
        "predictor = pd.DataFrame([range, range**2, range**3, range**4, range**5, range**6, range**7, range**8, range**9, range**10\n",
        "                          ,range**11, range**12, range**13, range**14, range**15, range**16, range**17, range**18, range**19, range**20]).T\n",
        "y_pred = model.predict(X = predictor)\n",
        "plt.plot(range, y_pred, color = 'green')\n",
        "print('Do chinh xac cua model', model.score(X, y = data['mpg']))"
      ],
      "metadata": {
        "colab": {
          "base_uri": "https://localhost:8080/",
          "height": 516
        },
        "id": "yaUrKAWMx5yz",
        "outputId": "a7ede5bf-e985-4347-a54b-408632d8c59c"
      },
      "execution_count": null,
      "outputs": [
        {
          "output_type": "stream",
          "name": "stdout",
          "text": [
            "Intercept cua mo hinh: 31.60116283297539\n",
            "Coefficient cua mo hinh [-1.97751688e-01 -4.61457294e-01 -6.73776309e-01 -7.66008671e-01\n",
            " -5.84901227e-01 -7.82144223e-02  5.74178632e-01  9.01634190e-01\n",
            "  4.29779708e-01 -6.08364736e-01 -9.01919647e-01  3.83801294e-01\n",
            "  9.62236538e-01 -1.10739600e+00  5.56319926e-01 -1.62874849e-01\n",
            "  2.96775386e-02 -3.33198739e-03  2.11904686e-04 -5.85903111e-06]\n",
            "Do chinh xac cua mo hinh 0.879188626967333\n",
            "Do chinh xac cua model 0.879188626967333\n"
          ]
        },
        {
          "output_type": "stream",
          "name": "stderr",
          "text": [
            "/usr/local/lib/python3.9/dist-packages/sklearn/base.py:420: UserWarning: X does not have valid feature names, but LinearRegression was fitted with feature names\n",
            "  warnings.warn(\n"
          ]
        },
        {
          "output_type": "display_data",
          "data": {
            "text/plain": [
              "<Figure size 360x360 with 1 Axes>"
            ],
            "image/png": "[encoded data removed]"
          },
          "metadata": {
            "needs_background": "light"
          }
        }
      ]
    },
    {
      "cell_type": "code",
      "source": [
        "#----------------------------------------------------------------------------"
      ],
      "metadata": {
        "id": "ZOprz-VByxCI"
      },
      "execution_count": null,
      "outputs": []
    },
    {
      "cell_type": "code",
      "source": [
        "#Hoi quy 2 bien\n",
        "model = linear_model.LinearRegression()\n",
        "model.fit(X= data.loc[:, ['wt', 'hp']], y = data['mpg'])\n",
        "print(model.intercept_)\n",
        "print(model.coef_)\n",
        "print(model.score(X= data.loc[:, ['wt', 'hp']], y = data['mpg']))\n",
        "#mpg = -3.8*wt -0.03*hp + 0.83"
      ],
      "metadata": {
        "colab": {
          "base_uri": "https://localhost:8080/"
        },
        "id": "0HGReA_t0M_J",
        "outputId": "16b16773-bc1f-497b-903f-80d86bc66367"
      },
      "execution_count": null,
      "outputs": [
        {
          "output_type": "stream",
          "name": "stdout",
          "text": [
            "37.227270116447215\n",
            "[-3.87783074 -0.03177295]\n",
            "0.8267854518827914\n"
          ]
        }
      ]
    },
    {
      "cell_type": "code",
      "source": [],
      "metadata": {
        "id": "BC9UoyQm0-FB"
      },
      "execution_count": null,
      "outputs": []
    },
    {
      "cell_type": "code",
      "source": [],
      "metadata": {
        "id": "KJLYWiIv2aGE"
      },
      "execution_count": null,
      "outputs": []
    }
  ]
}
